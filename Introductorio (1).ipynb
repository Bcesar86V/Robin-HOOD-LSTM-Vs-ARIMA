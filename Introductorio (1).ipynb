{
  "nbformat": 4,
  "nbformat_minor": 0,
  "metadata": {
    "colab": {
      "provenance": [],
      "collapsed_sections": []
    },
    "kernelspec": {
      "name": "python3",
      "display_name": "Python 3"
    },
    "language_info": {
      "name": "python"
    }
  },
  "cells": [
    {
      "cell_type": "markdown",
      "source": [
        "  ## DEEP LEARNING Vs MACHINE LEARNING"
      ],
      "metadata": {
        "id": "UG9-CbGV2SP6"
      }
    },
    {
      "cell_type": "markdown",
      "source": [
        "### 1. Se aplicaron los modelos ARIMA de machine learning y el modelo de red neuronal LSTM de deep learning para estimar el valor de las acciones de la empresa Robin Hood, con la finalidad de escoger el modelo que mejor ajuste y precisión presente.\n",
        "\n",
        "### 2. La base de datos fue extraída de kaggle. Dicha base consta de 268 filas y 6 columnas. Sin embargo, solo usaré la columna \"close_last\" para realizar las estimaciones. Dicha columna hace referencia al valor de cierre de mercado, correspondiente a la acción de la empresa\n",
        "\n",
        "### 3. La métrica a utilizar será el error cuadrático medio, el cuál permitirá establecer una buena comparación sobre qué modelo es más preciso al momento de realizar las estimaciones."
      ],
      "metadata": {
        "id": "FFtToZ7b2YOF"
      }
    }
  ]
}