{
  "cells": [
    {
      "cell_type": "markdown",
      "source": [
        "### Importando librerias y funciones"
      ],
      "metadata": {
        "id": "CKX3LmW0fzBv"
      }
    },
    {
      "cell_type": "code",
      "execution_count": 1,
      "metadata": {
        "id": "8OC25j6H2jzQ"
      },
      "outputs": [],
      "source": [
        "import numpy as np\n",
        "import matplotlib.pyplot as plt\n",
        "from matplotlib.pyplot import figure\n",
        "import pandas as pd\n",
        "import torch\n",
        "import torch.nn as nn\n",
        "from torch.autograd import Variable\n",
        "from sklearn.preprocessing import MinMaxScaler\n",
        "from sklearn.metrics import mean_squared_error\n",
        "from sklearn.model_selection import RandomizedSearchCV\n",
        "from datetime import datetime, timedelta"
      ]
    },
    {
      "cell_type": "markdown",
      "source": [
        "### Cargando la base de datos"
      ],
      "metadata": {
        "id": "C-GSEzC9f5il"
      }
    },
    {
      "cell_type": "code",
      "execution_count": 2,
      "metadata": {
        "id": "XWsWqKVB2wmD"
      },
      "outputs": [],
      "source": [
        "training_set = pd.read_csv('HOOD.csv', sep=';')\n"
      ]
    },
    {
      "cell_type": "markdown",
      "source": [
        "### Definiendo la variable 'date' como fecha y reorganizando la serie de forma ascendete"
      ],
      "metadata": {
        "id": "xuRKiwY2f_bP"
      }
    },
    {
      "cell_type": "code",
      "execution_count": 3,
      "metadata": {
        "colab": {
          "base_uri": "https://localhost:8080/"
        },
        "id": "0eT8_hBjo-z9",
        "outputId": "df84f19d-955d-4796-f754-eb9e108b3c7e"
      },
      "outputs": [
        {
          "output_type": "stream",
          "name": "stdout",
          "text": [
            "<class 'pandas.core.frame.DataFrame'>\n",
            "RangeIndex: 268 entries, 0 to 267\n",
            "Data columns (total 6 columns):\n",
            " #   Column      Non-Null Count  Dtype  \n",
            "---  ------      --------------  -----  \n",
            " 0   date        268 non-null    object \n",
            " 1   close_last  268 non-null    float64\n",
            " 2   volume      268 non-null    int64  \n",
            " 3   open        268 non-null    float64\n",
            " 4   high        268 non-null    float64\n",
            " 5   low         268 non-null    float64\n",
            "dtypes: float64(4), int64(1), object(1)\n",
            "memory usage: 12.7+ KB\n"
          ]
        }
      ],
      "source": [
        "training_set.info()\n",
        "training_set['date']=pd.to_datetime(training_set['date'])\n",
        "training_set= training_set.sort_values(by=\"date\",ascending=True)"
      ]
    },
    {
      "cell_type": "markdown",
      "source": [
        "### Graficando la serie correspondiente al valor de las acciones de Robin Hood"
      ],
      "metadata": {
        "id": "smuitJd1gLjx"
      }
    },
    {
      "cell_type": "code",
      "execution_count": 4,
      "metadata": {
        "colab": {
          "base_uri": "https://localhost:8080/",
          "height": 500
        },
        "id": "CwqUNuycn9z5",
        "outputId": "0460270f-0977-4c20-9ebf-27aae7b7af96"
      },
      "outputs": [
        {
          "output_type": "display_data",
          "data": {
            "text/plain": [
              "<Figure size 432x288 with 0 Axes>"
            ]
          },
          "metadata": {}
        },
        {
          "output_type": "display_data",
          "data": {
            "text/plain": [
              "<Figure size 576x576 with 1 Axes>"
            ],
            "image/png": "[encoded data removed]"
          },
          "metadata": {
            "needs_background": "light"
          }
        }
      ],
      "source": [
        "plt.suptitle('Valor de las acciones de Robin Hood')\n",
        "figure(figsize=(8,8))\n",
        "plt.plot('date', 'close_last', data=training_set )\n",
        "plt.show()"
      ]
    },
    {
      "cell_type": "markdown",
      "source": [
        "### Se aprecia claramente un desplome en el valor de las acciones de Robin Hood. Se observa una clara tendencia a la baja."
      ],
      "metadata": {
        "id": "GSB3uUjXgVmb"
      }
    },
    {
      "cell_type": "code",
      "execution_count": 5,
      "metadata": {
        "id": "Lu4kYur1qXLT"
      },
      "outputs": [],
      "source": [
        "training_set = training_set.iloc[:,1:2].values\n"
      ]
    },
    {
      "cell_type": "markdown",
      "source": [
        "### Particionando la data en muestra test y muestra train"
      ],
      "metadata": {
        "id": "RcfARUaAgjQn"
      }
    },
    {
      "cell_type": "code",
      "execution_count": 6,
      "metadata": {
        "id": "YOex6e0b20WP"
      },
      "outputs": [],
      "source": [
        "def sliding_windows(data, seq_length):\n",
        "    x = []\n",
        "    y = []\n",
        "\n",
        "    for i in range(len(data)-seq_length-1):\n",
        "        _x = data[i:(i+seq_length)]\n",
        "        _y = data[i+seq_length]\n",
        "        x.append(_x)\n",
        "        y.append(_y)\n",
        "\n",
        "    return np.array(x),np.array(y)\n",
        "\n",
        "sc = MinMaxScaler()\n",
        "training_data = sc.fit_transform(training_set) \n",
        "\n",
        "seq_length = 12  \n",
        "x, y = sliding_windows(training_data, seq_length)\n",
        "\n",
        "train_size = int(len(y) * 0.75)\n",
        "test_size = len(y) - train_size\n",
        "\n",
        "dataX = Variable(torch.Tensor(np.array(x)))\n",
        "dataY = Variable(torch.Tensor(np.array(y)))\n",
        "\n",
        "trainX = Variable(torch.Tensor(np.array(x[0:train_size])))\n",
        "trainY = Variable(torch.Tensor(np.array(y[0:train_size])))\n",
        "\n",
        "testX = Variable(torch.Tensor(np.array(x[train_size:len(x)])))\n",
        "testY = Variable(torch.Tensor(np.array(y[train_size:len(y)])))"
      ]
    },
    {
      "cell_type": "markdown",
      "source": [
        "### Definiendo el modelo de red neuronal LSTM"
      ],
      "metadata": {
        "id": "GJuty1Wagtcs"
      }
    },
    {
      "cell_type": "code",
      "execution_count": 7,
      "metadata": {
        "id": "Ji1xkQHe26UR"
      },
      "outputs": [],
      "source": [
        "class LSTM(nn.Module):\n",
        "\n",
        "    def __init__(self, num_classes, input_size, hidden_size, num_layers):\n",
        "        super(LSTM, self).__init__()\n",
        "        \n",
        "        self.num_classes = num_classes\n",
        "        self.num_layers = num_layers\n",
        "        self.input_size = input_size\n",
        "        self.hidden_size = hidden_size\n",
        "        self.seq_length = seq_length\n",
        "        \n",
        "        \n",
        "        self.lstm = nn.LSTM(input_size=input_size, hidden_size=hidden_size,\n",
        "                            num_layers=num_layers, batch_first=True)\n",
        "        \n",
        "        self.fc = nn.Linear(hidden_size, num_classes)\n",
        "\n",
        "    def forward(self, x):\n",
        "        h_0 = Variable(torch.zeros(\n",
        "            self.num_layers, x.size(0), self.hidden_size))\n",
        "        \n",
        "        c_0 = Variable(torch.zeros(\n",
        "            self.num_layers, x.size(0), self.hidden_size))\n",
        "        \n",
        "        # Propagate input through LSTM\n",
        "        ula, (h_out, _) = self.lstm(x, (h_0, c_0))\n",
        "        \n",
        "        h_out = h_out.view(-1, self.hidden_size)\n",
        "        \n",
        "        out = self.fc(h_out)\n",
        "        \n",
        "        return out"
      ]
    },
    {
      "cell_type": "markdown",
      "source": [
        "### Definiendo los hiperparámetros y graficando la función loss Vs Epoch"
      ],
      "metadata": {
        "id": "vqF9F-oZgxoo"
      }
    },
    {
      "cell_type": "code",
      "execution_count": 8,
      "metadata": {
        "colab": {
          "base_uri": "https://localhost:8080/"
        },
        "id": "bVvQbQ513Cqr",
        "outputId": "e218e5f9-17a1-43b1-9c74-7f749415bbec"
      },
      "outputs": [
        {
          "output_type": "stream",
          "name": "stdout",
          "text": [
            "Epoch  10 loss  0.02833256497979164\n",
            "Epoch  20 loss  0.003258297685533762\n",
            "Epoch  30 loss  0.002065971028059721\n",
            "Epoch  40 loss  0.0013324788305908442\n",
            "Epoch  50 loss  0.0006615365855395794\n",
            "Epoch  60 loss  0.0005824177642352879\n",
            "Epoch  70 loss  0.0005354280583560467\n",
            "Epoch  80 loss  0.0005040335236117244\n",
            "Epoch  90 loss  0.000489099882543087\n",
            "Epoch  100 loss  0.0004789579543285072\n",
            "Epoch  110 loss  0.00047450923011638224\n",
            "Epoch  120 loss  0.00047138737863861024\n",
            "Epoch  130 loss  0.0004690069181378931\n",
            "Epoch  140 loss  0.0004667227913159877\n",
            "Epoch  150 loss  0.00046447099884971976\n",
            "Epoch  160 loss  0.00046219115029089153\n",
            "Epoch  170 loss  0.0004598767845891416\n",
            "Epoch  180 loss  0.00045753191807307303\n",
            "Epoch  190 loss  0.0004551603633444756\n",
            "Epoch  200 loss  0.0004527659621089697\n",
            "Epoch  210 loss  0.00045035299262963235\n",
            "Epoch  220 loss  0.00044792520930059254\n",
            "Epoch  230 loss  0.0004454865993466228\n",
            "Epoch  240 loss  0.0004430409462656826\n",
            "Epoch  250 loss  0.000440591829828918\n",
            "Epoch  260 loss  0.00043814306263811886\n",
            "Epoch  270 loss  0.00043569778790697455\n",
            "Epoch  280 loss  0.0004332592652644962\n",
            "Epoch  290 loss  0.00043083119089715183\n",
            "Epoch  300 loss  0.00042841644608415663\n",
            "Epoch  310 loss  0.00042601837776601315\n",
            "Epoch  320 loss  0.00042363975080661476\n",
            "Epoch  330 loss  0.00042128367931582034\n",
            "Epoch  340 loss  0.0004189528990536928\n"
          ]
        }
      ],
      "source": [
        "\n",
        "num_epochs = 350\n",
        "input_size = 1\n",
        "hidden_size = 15\n",
        "num_layers = 1\n",
        "\n",
        "num_classes = 1\n",
        "learning_rate = 0.01\n",
        "\n",
        "\n",
        "lstm = LSTM(num_classes, input_size, hidden_size, num_layers)\n",
        "criterion = torch.nn.MSELoss()    # mean-squared error for regression\n",
        "optimizer = torch.optim.Adam(lstm.parameters(), lr=learning_rate)\n",
        "Loss=[]\n",
        "for epoch in range(num_epochs):\n",
        "    outputs = lstm(trainX)\n",
        "    optimizer.zero_grad()\n",
        "    \n",
        "    # obtain the loss function\n",
        "    loss = criterion(outputs, trainY)\n",
        "    Loss.append(loss.item())\n",
        "    \n",
        "    loss.backward()\n",
        "    \n",
        "    optimizer.step()\n",
        "    if epoch % 10 == 0 and epoch !=0: \n",
        "      print(\"Epoch \", epoch, \"loss \", loss.item())"
      ]
    },
    {
      "cell_type": "code",
      "execution_count": 9,
      "metadata": {
        "colab": {
          "base_uri": "https://localhost:8080/",
          "height": 279
        },
        "id": "1LDoKDIxHU7T",
        "outputId": "5f4e74af-c93b-4c6a-f1f1-a52bb85ebea3"
      },
      "outputs": [
        {
          "output_type": "display_data",
          "data": {
            "text/plain": [
              "<Figure size 432x288 with 1 Axes>"
            ],
            "image/png": "[encoded data removed]"
          },
          "metadata": {
            "needs_background": "light"
          }
        }
      ],
      "source": [
        "plt.plot(Loss, label=\"loss function\", color='red')\n",
        "plt.xlabel('Epoch')\n",
        "plt.ylabel('loss')\n",
        "plt.show()"
      ]
    },
    {
      "cell_type": "markdown",
      "source": [
        "### Estableciendo las predicciones y comparando estas con los valores reales de la serie, lo que se puede visualizar el en grafico"
      ],
      "metadata": {
        "id": "kHJceKcLg-jm"
      }
    },
    {
      "cell_type": "code",
      "execution_count": 18,
      "metadata": {
        "colab": {
          "base_uri": "https://localhost:8080/",
          "height": 294
        },
        "id": "BSW9Yix63IBF",
        "outputId": "e066bef8-bb7d-4357-f968-9d8c1391b45f"
      },
      "outputs": [
        {
          "output_type": "display_data",
          "data": {
            "text/plain": [
              "<Figure size 432x288 with 1 Axes>"
            ],
            "image/png": "[encoded data removed]"
          },
          "metadata": {
            "needs_background": "light"
          }
        }
      ],
      "source": [
        "lstm.eval()\n",
        "train_predict = lstm(dataX)\n",
        "\n",
        "data_predict = train_predict.data.numpy() \n",
        "dataY_plot = dataY.data.numpy()\n",
        "\n",
        "data_predict = sc.inverse_transform(data_predict)\n",
        "dataY_plot = sc.inverse_transform(dataY_plot)\n",
        "\n",
        "plt.axvline(x=train_size, c='green', linestyle=':')\n",
        "plt.plot(dataY_plot, color='blue', label='real')\n",
        "plt.ylabel('close_last')\n",
        "plt.plot(data_predict, color='orange', label='predicho')\n",
        "plt.legend(loc='upper right')\n",
        "plt.suptitle('Valor de las acciones de Robin Hood')\n",
        "plt.savefig('Acciones_Robin_Hood.png')\n",
        "plt.show()\n"
      ]
    },
    {
      "cell_type": "markdown",
      "source": [
        "### Calculando el valor del error cuadrático medio para el modelo de deep learning. Según el valor obtenido, el modelo es muy preciso al momento de estimar, el valor de 1.29 indica que existe poca diferencia entre los valores reales y los valores predichos"
      ],
      "metadata": {
        "id": "E2Eyuef-hIpb"
      }
    },
    {
      "cell_type": "code",
      "execution_count": 19,
      "metadata": {
        "colab": {
          "base_uri": "https://localhost:8080/"
        },
        "id": "UAAb_OIEm-4G",
        "outputId": "e1f13921-3b03-4267-c0f0-d756496bd149"
      },
      "outputs": [
        {
          "output_type": "execute_result",
          "data": {
            "text/plain": [
              "1.2912447"
            ]
          },
          "metadata": {},
          "execution_count": 19
        }
      ],
      "source": [
        "mean_squared_error(data_predict, dataY_plot)"
      ]
    }
  ],
  "metadata": {
    "colab": {
      "provenance": [],
      "collapsed_sections": []
    },
    "kernelspec": {
      "display_name": "Python 3",
      "name": "python3"
    },
    "language_info": {
      "name": "python"
    }
  },
  "nbformat": 4,
  "nbformat_minor": 0
}